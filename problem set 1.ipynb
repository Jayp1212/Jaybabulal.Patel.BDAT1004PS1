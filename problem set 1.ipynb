{
 "cells": [
  {
   "cell_type": "markdown",
   "id": "551a1ea6",
   "metadata": {},
   "source": [
    "# Question 1 : Finding the data type\n"
   ]
  },
  {
   "cell_type": "code",
   "execution_count": 24,
   "id": "a1d17564",
   "metadata": {},
   "outputs": [
    {
     "name": "stdout",
     "output_type": "stream",
     "text": [
      "<class 'int'>\n",
      "<class 'float'>\n",
      "<class 'bool'>\n",
      "<class 'str'>\n",
      "<class 'int'>\n",
      "<class 'str'>\n",
      "<class 'float'>\n",
      "<class 'int'>\n",
      "<class 'set'>\n",
      "<class 'bool'>\n",
      "<class 'float'>\n"
     ]
    }
   ],
   "source": [
    "print(type(5))\n",
    "print(type(5.0))\n",
    "print(type(5 > 1)) \n",
    "print(type('5'))\n",
    "print(type(5 * 2))\n",
    "print(type('5' * 2)) \n",
    "print(type(5/2))\n",
    "print(type(5 % 2))\n",
    "print(type({5,2,1}))\n",
    "print(type(5 == 3))\n",
    "\n",
    "import math                 #importing math library to use pi\n",
    "print(type(math.pi))      "
   ]
  },
  {
   "cell_type": "markdown",
   "id": "2d090730",
   "metadata": {},
   "source": [
    "# Question 2 :"
   ]
  },
  {
   "cell_type": "code",
   "execution_count": 15,
   "id": "97e19c82",
   "metadata": {},
   "outputs": [
    {
     "name": "stdout",
     "output_type": "stream",
     "text": [
      "34\n",
      "Yes, 'Supercalifragilisticexpialidocious' contains 'ice' as a substring\n",
      "Supercalifragilisticexpialidocious is the longest word\n",
      "Bartok comes first in the dictionary\n",
      "Buxtehude comes last in the dictionary\n"
     ]
    }
   ],
   "source": [
    "# a: How many letters are there in 'Supercalifragilisticexpialidocious'?\n",
    "\n",
    "print(len('Supercalifragilisticexpialidocious'))\n",
    "\n",
    "# b :  Does 'Supercalifragilisticexpialidocious' contain 'ice' as a substring? \n",
    "\n",
    "word = 'Supercalifragilisticexpialidocious'\n",
    "x = 'ice'\n",
    "if x in word :\n",
    "    print(\"Yes, 'Supercalifragilisticexpialidocious' contains 'ice' as a substring\")\n",
    "else :\n",
    "    print(\"No,'Supercalifragilisticexpialidocious' does not contain 'ice' as a substring\")\n",
    "    \n",
    "#  c: Which of the following words is the longest: \n",
    "#     Supercalifragilisticexpialidocious, Honorificabilitudinitatibus, or \n",
    "#     Bababadalgharaghtakamminarronnkonn?\n",
    "\n",
    "A = 'Supercalifragilisticexpialidocious'\n",
    "B = 'Honorificabilitudinitatibus'\n",
    "C = 'Bababadalgharaghtakamminarronnkonn'\n",
    "long = max(A,B,C)\n",
    "print(\"{} is the longest word\" .format(long))\n",
    "\n",
    "      \n",
    "#   d : Which composer comes first in the dictionary: 'Berlioz', 'Borodin', 'Brian', \n",
    "#       'Bartok', 'Bellini', 'Buxtehude', 'Bernstein'. Which one comes last?\n",
    "      \n",
    "nameList = ['Berlioz', 'Borodin', 'Brian','Bartok', 'Bellini', 'Buxtehude', 'Bernstein']\n",
    "nameList.sort()\n",
    "print('{} comes first in the dictionary'.format(nameList[0]))\n",
    "print('{} comes last in the dictionary'.format(nameList[-1]))"
   ]
  },
  {
   "cell_type": "markdown",
   "id": "2e5b5f7a",
   "metadata": {},
   "source": [
    "# Question 3 : Implement function triangleArea(a,b,c) that takes as input the lengths of the 3 sides of a triangle and returns the area of the triangle."
   ]
  },
  {
   "cell_type": "code",
   "execution_count": 3,
   "id": "c2fc2c83",
   "metadata": {
    "scrolled": true
   },
   "outputs": [
    {
     "data": {
      "text/plain": [
       "6.0"
      ]
     },
     "execution_count": 3,
     "metadata": {},
     "output_type": "execute_result"
    }
   ],
   "source": [
    "def triangleArea(a,b,c): \n",
    "    import math\n",
    "    s = int (a+b+c)/2\n",
    "    Area = math.sqrt(s * (s-a) * (s-b) * (s-c)) \n",
    "    return Area \n",
    "triangleArea(3,4,5)"
   ]
  },
  {
   "cell_type": "markdown",
   "id": "e3e33f14",
   "metadata": {},
   "source": [
    "# Question 4 : Write a program in python to separate odd and even integers in separate arrays."
   ]
  },
  {
   "cell_type": "code",
   "execution_count": 25,
   "id": "1b55166a",
   "metadata": {},
   "outputs": [
    {
     "name": "stdout",
     "output_type": "stream",
     "text": [
      "[42, 56, 32] is the Even intergers array\n",
      "[25, 47] is the Odd intergers array\n"
     ]
    }
   ],
   "source": [
    "My_list = [25,47,42,56,32]\n",
    "Even_list = []\n",
    "Odd_list = []\n",
    "for i in My_list:\n",
    "    if (i%2 == 0):\n",
    "        Even_list.append(i)\n",
    "    else:\n",
    "        Odd_list.append(i)\n",
    "print(\"{} is the Even intergers array\".format(Even_list))\n",
    "print(\"{} is the Odd intergers array\".format(Odd_list))\n"
   ]
  },
  {
   "cell_type": "markdown",
   "id": "29a8119a",
   "metadata": {},
   "source": [
    "# Question 5 :"
   ]
  },
  {
   "cell_type": "code",
   "execution_count": 37,
   "id": "fdbeb255",
   "metadata": {},
   "outputs": [
    {
     "name": "stdout",
     "output_type": "stream",
     "text": [
      "True\n",
      "False\n",
      "given point is not inside both of the rectangle\n"
     ]
    }
   ],
   "source": [
    "#   a : Write a function inside(x,y,x1,y1,x2,y2) that returns True or False \n",
    "#      depending on whether the point (x,y) lies in the rectangle with lower left \n",
    "#      corner (x1,y1) and upper right corner (x2,y2).\n",
    "\n",
    "def inside(x,y,x1,y1,x2,y2):\n",
    "    \n",
    "    if (x >= x1 and x <= x2 and y >= y1 and y <= y2): \n",
    "        return True\n",
    "    else:\n",
    "        return False\n",
    "        \n",
    "print(inside(1,1,0,0,2,3))\n",
    "print(inside(-1,-1,0,0,2,3))\n",
    "\n",
    "\n",
    "#  b : Use function inside() from part a. to write an expression that tests whether \n",
    "#      the point (1,1) lies in both of the following rectangles: one with lower left \n",
    "#      corner (0.3, 0.5) and upper right corner (1.1, 0.7) and the other with lower \n",
    "#      left corner (0.5, 0.2) and upper right corner (1.1, 2).\n",
    "\n",
    "if ((inside(1,1,0.3,0.5,1.1,0.7,)) and (inside(1,1,0.5,0.2,1.1,2))):\n",
    "    print(\"given point is inside both the rectangles\")\n",
    "else:\n",
    "    print(\"given point is not inside both of the rectangle\")\n",
    " \n"
   ]
  },
  {
   "cell_type": "markdown",
   "id": "c676644f",
   "metadata": {},
   "source": [
    "# Question 6 :rite a function pig() that takes a word (i.e., a string) as input and returns its pig-Latin form."
   ]
  },
  {
   "cell_type": "code",
   "execution_count": 38,
   "id": "d3936186",
   "metadata": {},
   "outputs": [
    {
     "name": "stdout",
     "output_type": "stream",
     "text": [
      "Enter the Word here:HappyNewYear\n",
      "appynewyearhay\n"
     ]
    }
   ],
   "source": [
    "def pig():\n",
    "    Word = str(input(\"Enter the Word here:\"))\n",
    "    Word = Word.lower()\n",
    "    vowel = [\"a\",\"e\",\"i\",\"o\",\"u\"]\n",
    "    a = 0\n",
    "    for i in range(len(vowel)):\n",
    "        if (Word[0] == vowel[i]):\n",
    "            Word = Word + 'way'\n",
    "            a = 1\n",
    "            print(Word)\n",
    "    if (a == 0):\n",
    "        Word = Word[1:] +  Word[0] + 'ay'\n",
    "        print(Word)\n",
    "            \n",
    "pig()"
   ]
  },
  {
   "cell_type": "markdown",
   "id": "c3167e8b",
   "metadata": {},
   "source": [
    "# Question 7 : Write a function bldcount() that reads the file with name name and reports (i.e., prints) how many patients there are in each bloodtype."
   ]
  },
  {
   "cell_type": "code",
   "execution_count": 23,
   "id": "cdd9b1c6",
   "metadata": {
    "scrolled": true
   },
   "outputs": [
    {
     "name": "stdout",
     "output_type": "stream",
     "text": [
      "there are 13 patients of blood type AB\n",
      "there are 15 patients of blood type A\n",
      "there are 1 patients of blood type B\n",
      "there are 15 patients of blood type O\n",
      "there are 0 patients of blood type OO\n"
     ]
    }
   ],
   "source": [
    "def bldcount(filename):\n",
    "    infile = open(filename)\n",
    "    content = infile.read()\n",
    "    infile.close()\n",
    "    wordList = content.split()\n",
    "    AB = 0\n",
    "    A = 0\n",
    "    B = 0\n",
    "    O = 0\n",
    "    OO = 0\n",
    "    for i in range(len(wordList)):\n",
    "        if(wordList[i] == 'AB'):\n",
    "            AB = AB + 1\n",
    "        elif(wordList[i] == 'A'):\n",
    "            A = A + 1\n",
    "        elif(wordList[i] == 'B'):\n",
    "            B = B + 1\n",
    "        elif(wordList[i] == 'O'):\n",
    "            O = O + 1\n",
    "        elif(wordList[i] == 'OO'):\n",
    "            OO = OO + 1\n",
    "    print(\"there are {} patients of blood type AB\".format(AB))\n",
    "    print(\"there are {} patients of blood type A\".format(A))\n",
    "    print(\"there are {} patients of blood type B\".format(B))\n",
    "    print(\"there are {} patients of blood type O\".format(O))\n",
    "    print(\"there are {} patients of blood type OO\".format(OO))\n",
    "bldcount(\"bloodtype1.txt\")\n"
   ]
  },
  {
   "cell_type": "markdown",
   "id": "62fe5089",
   "metadata": {},
   "source": [
    "# Question 8 : Currency Converter into US Dollar"
   ]
  },
  {
   "cell_type": "code",
   "execution_count": 39,
   "id": "a851a9cf",
   "metadata": {},
   "outputs": [
    {
     "name": "stdout",
     "output_type": "stream",
     "text": [
      "122.96544\n",
      "1.241401\n"
     ]
    }
   ],
   "source": [
    "def curconv(Currency,amount):\n",
    "    dictCur = {'AUD': 1.0345157,'CHF':1.0237414,'CNY':0.1550176,'DKK':0.1651442,\n",
    "               'EUR':1.2296544,'GBP':1.5550989,'HKD':0.1270207, 'INR':0.0177643,\n",
    "               'JPY': 0.01241401,'MXN': 0.0751848,'MYR': 0.3145411,'NOK':0.1677063,\n",
    "               'NZD':0.8003591,'PHP':0.0233234,'SEK':0.148269,'SGD':0.788871,'THB':0.0313789}\n",
    "    USD_amount = dictCur[Currency] * amount\n",
    "    print(USD_amount)\n",
    "curconv('EUR',100)\n",
    "curconv('JPY',100)\n"
   ]
  },
  {
   "cell_type": "markdown",
   "id": "0cbd22c9",
   "metadata": {},
   "source": [
    "# Question 9 : Each of the following will cause an exception (an error). Identify what type of exception each will cause.\n",
    "\n",
    "### A. Trying to add incompatible variables, as in adding 6 + ‘a’.\n",
    "SyntaxError : Invalid Character in identifier.\n",
    "<br>because 6 is an integer while 'a' is a string.\n",
    "\n",
    "### B. Referring to the 12th item of a list that has only 10 items\n",
    "data= [1,2,3,4,5,6,7,8,9,10] \n",
    "<br>print(data[12])\n",
    "\n",
    "IndexError : List Index Out Of Range.\n",
    "\n",
    "### C. Using a value that is out of range for a function’s input, such as calling math.sqrt(-1.0)\n",
    "import math \n",
    "<br>math.sqrt(-1.0)\n",
    "\n",
    "<br>ValueError : Math Domain Error.\n",
    "\n",
    "### D. Using an undeclared variable, such as print(x) when x has not been defined\n",
    "print(x)\n",
    "\n",
    "<br>NameError : name 'x' is not defined.\n",
    "\n",
    "### E. Trying to open a file that does not exist, such as mistyping the file name or looking in the wrong directory.\n",
    "f = open(\"demo.txt\", \"r\") \n",
    "<br>data = f.read()\n",
    "\n",
    "<br>FileNotFoundError: [Errno 2] No such file or directory: 'demo.txt'"
   ]
  },
  {
   "cell_type": "markdown",
   "id": "2e4190a1",
   "metadata": {},
   "source": [
    "# Question 10 :"
   ]
  },
  {
   "cell_type": "code",
   "execution_count": 41,
   "id": "c4f82805",
   "metadata": {},
   "outputs": [
    {
     "name": "stdout",
     "output_type": "stream",
     "text": [
      "enter the string here: The quick red fox got bored and went home.\n",
      "dict_values([1, 1, 1, 3, 5, 1, 1, 2, 1, 0, 1, 0, 1, 2, 4, 0, 1, 2, 0, 3, 1, 0, 1, 1, 0, 0])\n"
     ]
    }
   ],
   "source": [
    "def frequencies():\n",
    "    letters = 'abcdefghijklmnopqrstuvwxyz'\n",
    "    word = input(\"enter the string here: \")\n",
    "    word = word.lower()\n",
    "    dict_word = {}\n",
    "    for j in range(0, 26):       \n",
    "        dict_word[letters[j]] = 0 \n",
    "        j+=1\n",
    "    for k in range(len(word)):\n",
    "        \n",
    "        if(word[k] in letters):\n",
    "            dict_word[word[k]] += 1\n",
    "        else:\n",
    "            continue\n",
    "    print(dict_word.values())\n",
    "frequencies()\n"
   ]
  }
 ],
 "metadata": {
  "kernelspec": {
   "display_name": "Python 3 (ipykernel)",
   "language": "python",
   "name": "python3"
  },
  "language_info": {
   "codemirror_mode": {
    "name": "ipython",
    "version": 3
   },
   "file_extension": ".py",
   "mimetype": "text/x-python",
   "name": "python",
   "nbconvert_exporter": "python",
   "pygments_lexer": "ipython3",
   "version": "3.9.13"
  }
 },
 "nbformat": 4,
 "nbformat_minor": 5
}
